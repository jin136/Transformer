{
 "cells": [
  {
   "cell_type": "code",
   "execution_count": 5,
   "metadata": {},
   "outputs": [],
   "source": [
    "import torch \n",
    "import torch.nn as nn\n",
    "import torch.utils.checkpoint as checkpoint\n",
    "from timm.models.layers import DropPath, to_2tuple, trunc_normal_"
   ]
  },
  {
   "cell_type": "code",
   "execution_count": null,
   "metadata": {},
   "outputs": [],
   "source": [
    "class MLP(nn.Module):\n",
    "    def __init__(self,in_features,hidden_features=None,out_features=None,act_layer=nn.GELU,drop=0):\n",
    "        super().__init__()\n",
    "        self.out_features=out_features or in_features\n",
    "        self.hidden_features=hidden_features\n",
    "        self.fc1=nn.Linear(in_features,hidden_features)\n",
    "        self.act=act_layer()\n",
    "        self.drop=nn.Dropout(drop)\n",
    "    \n",
    "    def forward(self,x):\n",
    "        x=self.fc1(x)\n",
    "        x=self.act(x)\n",
    "        x=self.drop(x)\n",
    "        x=self.fc1(x)\n",
    "        x=self.drop(x)\n",
    "\n",
    "        return x"
   ]
  },
  {
   "cell_type": "code",
   "execution_count": 8,
   "metadata": {},
   "outputs": [],
   "source": [
    "def window_partion(x,window_size):\n",
    "    '''\n",
    "    Args:\n",
    "        x:(B,H,W,C)\n",
    "        window_size (int): window size\n",
    "\n",
    "    Returns:\n",
    "        windows:(num_windows*B, window_size, window_size, C)\n",
    "    '''\n",
    "    B,H,W,C=x.shape\n",
    "    x=x.view(B,H//window_size,window_size,W//window_size,window_size,C)\n",
    "    windows=x.permute(0,1,3,2,4,5).contiguous().view(-1,window_size,C)\n",
    "    \n",
    "    return windows"
   ]
  },
  {
   "cell_type": "code",
   "execution_count": 6,
   "metadata": {},
   "outputs": [
    {
     "ename": "NameError",
     "evalue": "name 'window_partion' is not defined",
     "output_type": "error",
     "traceback": [
      "\u001b[1;31m---------------------------------------------------------------------------\u001b[0m",
      "\u001b[1;31mNameError\u001b[0m                                 Traceback (most recent call last)",
      "Cell \u001b[1;32mIn[6], line 2\u001b[0m\n\u001b[0;32m      1\u001b[0m x\u001b[39m=\u001b[39mtorch\u001b[39m.\u001b[39mrandn(\u001b[39m32\u001b[39m,\u001b[39m8\u001b[39m,\u001b[39m8\u001b[39m,\u001b[39m48\u001b[39m)\n\u001b[1;32m----> 2\u001b[0m a\u001b[39m=\u001b[39mwindow_partion(x,\u001b[39m4\u001b[39m)\n\u001b[0;32m      3\u001b[0m a\u001b[39m.\u001b[39mshape\n",
      "\u001b[1;31mNameError\u001b[0m: name 'window_partion' is not defined"
     ]
    }
   ],
   "source": [
    "x=torch.randn(32,8,8,48)\n",
    "a=window_partion(x,4)\n",
    "a.shape "
   ]
  },
  {
   "cell_type": "code",
   "execution_count": null,
   "metadata": {},
   "outputs": [],
   "source": [
    "def window_reverse(windows,window_size,H,W):\n",
    "    '''\n",
    "    Args:\n",
    "        windows:(num_windows*B,window_size,window_size,C)\n",
    "        H (int): height of image\n",
    "        W (int): width of image\n",
    "    \n",
    "    Returns:\n",
    "        x: (B,H,W,C)\n",
    "    '''\n",
    "\n",
    "    B=int(windows.shape[0]/(H*W/window_size/window_size))\n",
    "    x=windows.view(B,H//window_size,window_size,W//window_size,window_size,-1)\n",
    "    x=x.permute(0,1,3,2,4,5).contiguous.view(B,H,W,-1)"
   ]
  },
  {
   "cell_type": "code",
   "execution_count": null,
   "metadata": {},
   "outputs": [],
   "source": [
    "class WindowAttention(nn.Module):\n",
    "    '''\n",
    "    Windows based multi head self attention (W-MSA) module with relative position bias\n",
    "    It supports both of shifted and non-shifted window\n",
    "    \n",
    "    Args:\n",
    "        dim (int): Number of input channels\n",
    "        window_size (tuple[int]): The height of width of the windows\n",
    "        num_heads (int): Number of attention heads\n",
    "        qkv_bias (bool, optional): If true, add a learnable bias to query,key,value. Default: True\n",
    "        qk_scale (float| None, optional): Override default qk sclale of head**-0.5 if set\n",
    "        attn_drop (float, optional): Dropout ratio of attention weight. Default 0.0\n",
    "        proj_drop (float, optional): Dropout ratio of output. Default 0.0         \n",
    "    '''\n",
    "\n",
    "    def __init__(self,dim,window_size,num_heads,qkv_bias=True,qk_scale=None,attn_drop=0.,proj_drop=0.):\n",
    "        super().__init__()\n",
    "        self.dim=dim\n",
    "        self.window_size=window_size # Wh, Ww\n",
    "        self.num_heads=num_heads\n",
    "        head_dim=dim//num_heads\n",
    "        self.scale=qk_scale or head_dim**-0.5\n",
    "\n",
    "        # define a parameter table of relative position bias\n",
    "        self.relative_position_bias_table=nn.Parameter(\n",
    "            torch.zeros((2*self.window_size-1)*(2*window_size[1]-1,num_heads))) # 2*Wh-1 * 2*Ww-1, nH\n",
    "        \n",
    "        #get pair-wise\n"
   ]
  },
  {
   "cell_type": "code",
   "execution_count": 7,
   "metadata": {},
   "outputs": [
    {
     "data": {
      "text/plain": [
       "torch.Size([3969, 8])"
      ]
     },
     "execution_count": 7,
     "metadata": {},
     "output_type": "execute_result"
    }
   ],
   "source": [
    "a=nn.Parameter(\n",
    "            torch.zeros((2 * 32 - 1) * (2 * 32 - 1), 8))\n",
    "a.shape"
   ]
  },
  {
   "cell_type": "code",
   "execution_count": null,
   "metadata": {},
   "outputs": [],
   "source": []
  }
 ],
 "metadata": {
  "kernelspec": {
   "display_name": "torch_nightly",
   "language": "python",
   "name": "torch_nightly"
  },
  "language_info": {
   "codemirror_mode": {
    "name": "ipython",
    "version": 3
   },
   "file_extension": ".py",
   "mimetype": "text/x-python",
   "name": "python",
   "nbconvert_exporter": "python",
   "pygments_lexer": "ipython3",
   "version": "3.9.16"
  },
  "orig_nbformat": 4
 },
 "nbformat": 4,
 "nbformat_minor": 2
}
